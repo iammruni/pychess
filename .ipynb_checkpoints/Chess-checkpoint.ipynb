{
 "cells": [
  {
   "cell_type": "code",
   "execution_count": null,
   "id": "68b1f01f-882b-4dd0-93e5-e9f9a407efe6",
   "metadata": {},
   "outputs": [],
   "source": [
    "class Board:\n",
    "    def __init__(self):\n",
    "        # Initialize an 8x8 board with pieces in starting positions\n",
    "        self.board = [\n",
    "            ['r', 'n', 'b', 'q', 'k', 'b', 'n', 'r'],\n",
    "            ['p', 'p', 'p', 'p', 'p', 'p', 'p', 'p'],\n",
    "            ['.', '.', '.', '.', '.', '.', '.', '.'],\n",
    "            ['.', '.', '.', '.', '.', '.', '.', '.'],\n",
    "            ['.', '.', '.', '.', '.', '.', '.', '.'],\n",
    "            ['.', '.', '.', '.', '.', '.', '.', '.'],\n",
    "            ['P', 'P', 'P', 'P', 'P', 'P', 'P', 'P'],\n",
    "            ['R', 'N', 'B', 'Q', 'K', 'B', 'N', 'R']\n",
    "        ]\n",
    "\n",
    "    def display(self):\n",
    "        for row in self.board:\n",
    "            print(\" \".join(row))\n"
   ]
  }
 ],
 "metadata": {
  "kernelspec": {
   "display_name": "Python 3 (ipykernel)",
   "language": "python",
   "name": "python3"
  },
  "language_info": {
   "codemirror_mode": {
    "name": "ipython",
    "version": 3
   },
   "file_extension": ".py",
   "mimetype": "text/x-python",
   "name": "python",
   "nbconvert_exporter": "python",
   "pygments_lexer": "ipython3",
   "version": "3.9.18"
  }
 },
 "nbformat": 4,
 "nbformat_minor": 5
}
